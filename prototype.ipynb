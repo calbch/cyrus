{
 "cells": [
  {
   "cell_type": "code",
   "execution_count": 4,
   "metadata": {},
   "outputs": [],
   "source": [
    "path = 'data/'"
   ]
  },
  {
   "cell_type": "code",
   "execution_count": 5,
   "metadata": {},
   "outputs": [
    {
     "name": "stderr",
     "output_type": "stream",
     "text": [
      "[nltk_data] Downloading package punkt to /Users/cal/nltk_data...\n",
      "[nltk_data]   Unzipping tokenizers/punkt.zip.\n",
      "[nltk_data] Downloading package averaged_perceptron_tagger to\n",
      "[nltk_data]     /Users/cal/nltk_data...\n",
      "[nltk_data]   Unzipping taggers/averaged_perceptron_tagger.zip.\n",
      "Downloading yolox_l0.05.onnx: 100%|██████████| 217M/217M [00:08<00:00, 25.7MB/s] \n",
      "WARNING:root:Please consider to run pre-processing before quantization. Refer to example: https://github.com/microsoft/onnxruntime-inference-examples/blob/main/quantization/image_classification/cpu/ReadMe.md \n"
     ]
    }
   ],
   "source": [
    "# Extract images, tables, and chunk text\n",
    "from unstructured.partition.pdf import partition_pdf\n",
    "\n",
    "raw_pdf_elements = partition_pdf(\n",
    "    filename=path + \"physics_example.pdf\",\n",
    "    extract_images_in_pdf=True,\n",
    "    infer_table_structure=True,\n",
    "    chunking_strategy=\"by_title\",\n",
    "    max_characters=4000,\n",
    "    new_after_n_chars=3800,\n",
    "    combine_text_under_n_chars=2000,\n",
    "    image_output_dir_path=path,\n",
    ")"
   ]
  },
  {
   "cell_type": "code",
   "execution_count": 7,
   "metadata": {},
   "outputs": [],
   "source": [
    "# Categorize text elements by type\n",
    "tables = []\n",
    "texts = []\n",
    "for element in raw_pdf_elements:\n",
    "    if \"unstructured.documents.elements.Table\" in str(type(element)):\n",
    "        tables.append(str(element))\n",
    "    elif \"unstructured.documents.elements.CompositeElement\" in str(type(element)):\n",
    "        texts.append(str(element))"
   ]
  },
  {
   "cell_type": "code",
   "execution_count": 9,
   "metadata": {},
   "outputs": [
    {
     "name": "stdout",
     "output_type": "stream",
     "text": [
      "['8.01x Classical Mechanics, Fall 2016\\n\\nMassachusetts Institute of Technology\\n\\nProblem Set 1\\n\\n1. Car and Bicycle Rider\\n\\nA car is driving along a straight line with a speed v0. At time t = 0 the car is at the origin. At a later instant of time t = t1 the car starts to slow down until it stops at a time t = t2. The acceleration of the car as a function of time is given by\\n\\na= 0 0<t<t, co —c(t — t1) ty <t<tg\\n\\n(cid:26)\\n\\nwhere c is a positive constant which has dimensions of acceleration per unit time.\\n\\n(a) Find vc(t) and xc(t), the x-component of the velocity and the position of the car as a function of time. Express your answer in terms of some or all of the following variables: v0, c, t, t1 and t2.\\n\\n(b) A bicycle rider is riding at a constant speed of vb and at t = 0 is 17 m behind the car. The cyclist reaches the car when the car just comes to rest. The car is moving with an acceleration\\n\\na- 0 0<t<t co —c(t — t1) ty <t<tg\\n\\n(cid:26)\\n\\nwhere its initial component of the velocity is v0 = 12 m/s, t1 = 1 s and c = 6 m/s3. The car comes to rest at t2. Find the speed of the bicycle to 2 signiﬁcant ﬁgures.\\n\\n8.01x Classical Mechanics: Problem Set 1\\n\\n2\\n\\n2. Elevator Trip', '{AT+a', 'A person is standing on an elevator initially at rest at the ﬁrst ﬂoor of a high building. The elevator then begins to ascend to the sixth ﬂoor, which is a known distance h above the starting point. The elevator undergoes an unknown constant acceleration of magnitude a for a given time interval T . Then the elevator moves at a constant velocity for a time interval 4T . Finally the elevator brakes with an acceleration of magnitude a, (the same magnitude as the initial acceleration), for a time interval T until stopping at the sixth ﬂoor.\\n\\n(a) Make a sketch of the velocity v(t) of the elevator as it travels to the sixth ﬂoor. Your sketch should be qualitatively correct: it should have the right shape, but the vertical scale need not be accurate. Hint: thinking about the graphical repre- sentation of v(t) leads to a much easier solution for part B.\\n\\n(b) Find the value of a, the magnitude of the acceleration, in terms of h and T .\\n\\n8.01x Classical Mechanics: Problem Set 1\\n\\n3\\n\\n3. Rocket Launch\\n\\nt=0 Stone is “x released @    Rocket is launched\\n\\nAt the base of a vertical cliﬀ, a model rocket, starting from rest, is launched upwards at t = 0 with a time-varying acceleration given by\\n\\nay(t) = A − Bt\\n\\nwhere A and B are positive constants. Also at t = 0, a small stone is released from rest from the top of the cliﬀ at a height h directly above the rocket. (This height h is higher than the maximum height reached by the rocket.) The stone hits the rocket at the instant when the rocket reaches its maximum height. The gravitational acceleration of magnitude g is downward. You may neglect air resistance. Determine an expression for the initial height h from which the stone was dropped in terms of the constants A, B, and g.\\n\\n8.01x Classical Mechanics: Problem Set 1\\n\\n4\\n\\n4\\n\\n4. Throw and Catch\\n\\nA ball is thrown over the head of a person who is standing a horizontal distance d from the point where the ball was thrown. The initial ball’s velocity is at an angle θ with respect to the ground and has a magnitude v0. As soon as the ball is thrown, the person runs with a time-varying acceleration whose component along the x-axis is given by Bt, where B is a positive constant. The person catches the ball at exactly the same height it was thrown from. Assume that the air resistance is negligible and that the gravitational acceleration is directed downward and has magnitude g. Find the constant B.\\n\\nExpress your answer in terms of some or all of the given variables. Use θ, g, d, and v0 as needed.\\n\\n8.01x Classical Mechanics: Problem Set 1\\n\\n5', '5. Vertical Collision\\n\\nMary wants to throw a can straight up into the air and then hit it with a second can. She wants the collision to occur at height h = 5.0 m above the throw point. In addition, she knows that she needs t1 = 4.0 s between successive throws. Assume that she throws both cans with the same speed. Take g to be 9.81 m/s2.\\n\\n(a) How long it takes (in seconds) after the first can has been thrown into the air for the two cans to collide? Answer to 4 significant figures.\\n\\n(b) Find the initial speed of the cans (in meters/second) to 4 signiﬁcant ﬁgures.\\n\\nMIT OpenCourseWare https://ocw.mit.edu\\n\\n8.01 Classical Mechanics Fall 2016\\n\\nFor information about citing these materials or our Terms of Use, visit: https://ocw.mit.edu/terms.']\n"
     ]
    }
   ],
   "source": [
    "import os\n",
    "import uuid\n",
    "import chromadb\n",
    "import numpy as np\n",
    "from PIL import Image as _PILImage\n",
    "from langchain.vectorstores import Chroma\n",
    "from langchain_experimental.open_clip import OpenCLIPEmbeddings\n",
    "\n",
    "vectorstore = Chroma(\n",
    "    collection_name=\"cyrus_rag_clip\", embedding_function=OpenCLIPEmbeddings()\n",
    ")\n",
    "\n",
    "\n",
    "image_uris = sorted(\n",
    "    [\n",
    "        os.path.join(path, image_name)\n",
    "        for image_name in os.listdir(path)\n",
    "        if image_name.endswith(\".jpg\")\n",
    "    ]\n",
    ")\n",
    "\n",
    "# Add images\n",
    "vectorstore.add_images(uris=image_uris)\n",
    "\n",
    "# Add documents\n",
    "vectorstore.add_texts(texts=texts)\n",
    "\n",
    "# Make retriever\n",
    "retriever = vectorstore.as_retriever()"
   ]
  }
 ],
 "metadata": {
  "kernelspec": {
   "display_name": ".venv",
   "language": "python",
   "name": "python3"
  },
  "language_info": {
   "codemirror_mode": {
    "name": "ipython",
    "version": 3
   },
   "file_extension": ".py",
   "mimetype": "text/x-python",
   "name": "python",
   "nbconvert_exporter": "python",
   "pygments_lexer": "ipython3",
   "version": "3.11.4"
  }
 },
 "nbformat": 4,
 "nbformat_minor": 2
}
